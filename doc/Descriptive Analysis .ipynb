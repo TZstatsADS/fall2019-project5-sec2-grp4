{
 "cells": [
  {
   "cell_type": "code",
   "execution_count": 155,
   "metadata": {},
   "outputs": [
    {
     "name": "stdout",
     "output_type": "stream",
     "text": [
      "Training data size (4132914, 4)\n"
     ]
    }
   ],
   "source": [
    "import random\n",
    "import shutil\n",
    "import operator\n",
    "import numpy as np\n",
    "import pandas as pd \n",
    "import os\n",
    "train_set = pd.read_csv('/Users/yianhuang/Desktop/proj 5/data/google-landmarks-dataset/train.csv')\n",
    "train_label_to_category = pd.read_csv('/Users/yianhuang/Desktop/proj 5/data/google-landmarks-dataset/train_label_to_category.csv')\n",
    "train= pd.merge(train_set,train_label_to_category,on=\"landmark_id\")\n",
    "print(\"Training data size\",train.shape)"
   ]
  },
  {
   "cell_type": "code",
   "execution_count": 156,
   "metadata": {},
   "outputs": [],
   "source": [
    "import matplotlib.pyplot as plt\n",
    "import seaborn as sns\n",
    "#%matplotlib inline"
   ]
  },
  {
   "cell_type": "code",
   "execution_count": 157,
   "metadata": {},
   "outputs": [
    {
     "data": {
      "text/html": [
       "<div>\n",
       "<style scoped>\n",
       "    .dataframe tbody tr th:only-of-type {\n",
       "        vertical-align: middle;\n",
       "    }\n",
       "\n",
       "    .dataframe tbody tr th {\n",
       "        vertical-align: top;\n",
       "    }\n",
       "\n",
       "    .dataframe thead th {\n",
       "        text-align: right;\n",
       "    }\n",
       "</style>\n",
       "<table border=\"1\" class=\"dataframe\">\n",
       "  <thead>\n",
       "    <tr style=\"text-align: right;\">\n",
       "      <th></th>\n",
       "      <th>id</th>\n",
       "      <th>url</th>\n",
       "      <th>landmark_id</th>\n",
       "      <th>category</th>\n",
       "    </tr>\n",
       "  </thead>\n",
       "  <tbody>\n",
       "    <tr>\n",
       "      <th>0</th>\n",
       "      <td>6e158a47eb2ca3f6</td>\n",
       "      <td>https://upload.wikimedia.org/wikipedia/commons...</td>\n",
       "      <td>142820</td>\n",
       "      <td>http://commons.wikimedia.org/wiki/Category:Sto...</td>\n",
       "    </tr>\n",
       "    <tr>\n",
       "      <th>1</th>\n",
       "      <td>072bd23acd6e0daa</td>\n",
       "      <td>http://upload.wikimedia.org/wikipedia/commons/...</td>\n",
       "      <td>142820</td>\n",
       "      <td>http://commons.wikimedia.org/wiki/Category:Sto...</td>\n",
       "    </tr>\n",
       "    <tr>\n",
       "      <th>2</th>\n",
       "      <td>57adb5d4273cb491</td>\n",
       "      <td>https://upload.wikimedia.org/wikipedia/commons...</td>\n",
       "      <td>142820</td>\n",
       "      <td>http://commons.wikimedia.org/wiki/Category:Sto...</td>\n",
       "    </tr>\n",
       "    <tr>\n",
       "      <th>3</th>\n",
       "      <td>0dd2ff809608127f</td>\n",
       "      <td>https://upload.wikimedia.org/wikipedia/commons...</td>\n",
       "      <td>142820</td>\n",
       "      <td>http://commons.wikimedia.org/wiki/Category:Sto...</td>\n",
       "    </tr>\n",
       "    <tr>\n",
       "      <th>4</th>\n",
       "      <td>1034d5cb0eec963f</td>\n",
       "      <td>https://upload.wikimedia.org/wikipedia/commons...</td>\n",
       "      <td>142820</td>\n",
       "      <td>http://commons.wikimedia.org/wiki/Category:Sto...</td>\n",
       "    </tr>\n",
       "  </tbody>\n",
       "</table>\n",
       "</div>"
      ],
      "text/plain": [
       "                 id                                                url  \\\n",
       "0  6e158a47eb2ca3f6  https://upload.wikimedia.org/wikipedia/commons...   \n",
       "1  072bd23acd6e0daa  http://upload.wikimedia.org/wikipedia/commons/...   \n",
       "2  57adb5d4273cb491  https://upload.wikimedia.org/wikipedia/commons...   \n",
       "3  0dd2ff809608127f  https://upload.wikimedia.org/wikipedia/commons...   \n",
       "4  1034d5cb0eec963f  https://upload.wikimedia.org/wikipedia/commons...   \n",
       "\n",
       "   landmark_id                                           category  \n",
       "0       142820  http://commons.wikimedia.org/wiki/Category:Sto...  \n",
       "1       142820  http://commons.wikimedia.org/wiki/Category:Sto...  \n",
       "2       142820  http://commons.wikimedia.org/wiki/Category:Sto...  \n",
       "3       142820  http://commons.wikimedia.org/wiki/Category:Sto...  \n",
       "4       142820  http://commons.wikimedia.org/wiki/Category:Sto...  "
      ]
     },
     "execution_count": 157,
     "metadata": {},
     "output_type": "execute_result"
    }
   ],
   "source": [
    "train.head()"
   ]
  },
  {
   "cell_type": "code",
   "execution_count": null,
   "metadata": {},
   "outputs": [],
   "source": []
  },
  {
   "cell_type": "code",
   "execution_count": 158,
   "metadata": {},
   "outputs": [
    {
     "name": "stdout",
     "output_type": "stream",
     "text": [
      "id e3515ca415e1dbeb\n",
      "url: https://upload.wikimedia.org/wikipedia/commons/d/da/Attack_if_you_dare..._-_geograph.org.uk_-_1484089.jpg\n",
      "landmark_id: 104169\n",
      "category: http://commons.wikimedia.org/wiki/Category:Stirling_Castle\n"
     ]
    }
   ],
   "source": [
    "temp = 146\n",
    "print('id', train['id'][temp])\n",
    "print('url:', train['url'][temp])\n",
    "print('landmark_id:', train['landmark_id'][temp])\n",
    "print('category:', train['category'][temp])"
   ]
  },
  {
   "cell_type": "code",
   "execution_count": 159,
   "metadata": {},
   "outputs": [
    {
     "data": {
      "text/html": [
       "<div>\n",
       "<style scoped>\n",
       "    .dataframe tbody tr th:only-of-type {\n",
       "        vertical-align: middle;\n",
       "    }\n",
       "\n",
       "    .dataframe tbody tr th {\n",
       "        vertical-align: top;\n",
       "    }\n",
       "\n",
       "    .dataframe thead th {\n",
       "        text-align: right;\n",
       "    }\n",
       "</style>\n",
       "<table border=\"1\" class=\"dataframe\">\n",
       "  <thead>\n",
       "    <tr style=\"text-align: right;\">\n",
       "      <th></th>\n",
       "      <th>Total</th>\n",
       "      <th>Percent</th>\n",
       "    </tr>\n",
       "  </thead>\n",
       "  <tbody>\n",
       "    <tr>\n",
       "      <th>category</th>\n",
       "      <td>0</td>\n",
       "      <td>0.0</td>\n",
       "    </tr>\n",
       "    <tr>\n",
       "      <th>landmark_id</th>\n",
       "      <td>0</td>\n",
       "      <td>0.0</td>\n",
       "    </tr>\n",
       "    <tr>\n",
       "      <th>url</th>\n",
       "      <td>0</td>\n",
       "      <td>0.0</td>\n",
       "    </tr>\n",
       "    <tr>\n",
       "      <th>id</th>\n",
       "      <td>0</td>\n",
       "      <td>0.0</td>\n",
       "    </tr>\n",
       "  </tbody>\n",
       "</table>\n",
       "</div>"
      ],
      "text/plain": [
       "             Total  Percent\n",
       "category         0      0.0\n",
       "landmark_id      0      0.0\n",
       "url              0      0.0\n",
       "id               0      0.0"
      ]
     },
     "execution_count": 159,
     "metadata": {},
     "output_type": "execute_result"
    }
   ],
   "source": [
    "# missing data in training data \n",
    "total = train.isnull().sum().sort_values(ascending = False)\n",
    "percent = (train.isnull().sum()/train.isnull().count()).sort_values(ascending = False)\n",
    "missing_train_data = pd.concat([total, percent], axis=1, keys=['Total', 'Percent'])\n",
    "missing_train_data.head()"
   ]
  },
  {
   "cell_type": "code",
   "execution_count": 160,
   "metadata": {},
   "outputs": [],
   "source": [
    "from IPython.display import Image\n",
    "from IPython.core.display import HTML \n",
    "\n",
    "def display_category(urls, category_name):\n",
    "    img_style = \"width: 180px; margin: 0px; float: left; border: 1px solid black;\"\n",
    "    images_list = ''.join([f\"<img style='{img_style}' src='{u}' />\" for _, u in urls.head(12).iteritems()])\n",
    "\n",
    "    display(HTML(images_list))"
   ]
  },
  {
   "cell_type": "code",
   "execution_count": 161,
   "metadata": {},
   "outputs": [
    {
     "data": {
      "text/html": [
       "<img style='width: 180px; margin: 0px; float: left; border: 1px solid black;' src='https://upload.wikimedia.org/wikipedia/commons/e/ec/Cloudy_Bay_Cellar_Door_in_Marlborough_%284671490362%29.jpg' /><img style='width: 180px; margin: 0px; float: left; border: 1px solid black;' src='https://upload.wikimedia.org/wikipedia/commons/0/04/White_Hart_Lane_Aerial.jpg' /><img style='width: 180px; margin: 0px; float: left; border: 1px solid black;' src='https://upload.wikimedia.org/wikipedia/commons/a/a6/The_Dun_Passage_-_geograph.org.uk_-_722974.jpg' /><img style='width: 180px; margin: 0px; float: left; border: 1px solid black;' src='https://upload.wikimedia.org/wikipedia/commons/1/1b/Locre_N%C2%B010_Cem.10_1.JPG' /><img style='width: 180px; margin: 0px; float: left; border: 1px solid black;' src='https://upload.wikimedia.org/wikipedia/commons/3/3a/Lapland_-_Urho_Kekkonen_National_Park_-_20180728172805.jpg' /><img style='width: 180px; margin: 0px; float: left; border: 1px solid black;' src='http://upload.wikimedia.org/wikipedia/commons/8/80/Lloma_del_Burgar_P1170301.JPG' /><img style='width: 180px; margin: 0px; float: left; border: 1px solid black;' src='https://upload.wikimedia.org/wikipedia/commons/e/e2/%E7%BE%8E%E5%9C%8B%E7%B4%90%E7%B4%84205.jpg' /><img style='width: 180px; margin: 0px; float: left; border: 1px solid black;' src='https://upload.wikimedia.org/wikipedia/commons/9/93/Raddick_Hill_from_Leeden_Tor_%285687%29.jpg' /><img style='width: 180px; margin: 0px; float: left; border: 1px solid black;' src='https://upload.wikimedia.org/wikipedia/commons/b/bf/NSG_HA_053_Haseder_Busch_%2827%29.jpg' /><img style='width: 180px; margin: 0px; float: left; border: 1px solid black;' src='https://upload.wikimedia.org/wikipedia/commons/f/fb/5_Zingaro_%2815%29_%2812841395363%29.jpg' /><img style='width: 180px; margin: 0px; float: left; border: 1px solid black;' src='https://upload.wikimedia.org/wikipedia/commons/e/ec/Elizabeth_Berger_Plaza_td_%282018-12-13%29_51.jpg' /><img style='width: 180px; margin: 0px; float: left; border: 1px solid black;' src='https://upload.wikimedia.org/wikipedia/commons/0/03/Muzej_u_Pirotu%2C_Pirotski_grad%2C_Pirot_09.JPG' />"
      ],
      "text/plain": [
       "<IPython.core.display.HTML object>"
      ]
     },
     "metadata": {},
     "output_type": "display_data"
    }
   ],
   "source": [
    "category = train['landmark_id'].value_counts().keys()[0]\n",
    "urls = train_data[train['landmark_id'] == category]['url']\n",
    "display_category(urls, \"\")"
   ]
  },
  {
   "cell_type": "code",
   "execution_count": null,
   "metadata": {},
   "outputs": [],
   "source": []
  },
  {
   "cell_type": "code",
   "execution_count": 162,
   "metadata": {},
   "outputs": [
    {
     "data": {
      "text/plain": [
       "id             4132914\n",
       "url            4132914\n",
       "landmark_id     203094\n",
       "category        203094\n",
       "dtype: int64"
      ]
     },
     "execution_count": 162,
     "metadata": {},
     "output_type": "execute_result"
    }
   ],
   "source": [
    "# Unique URL's\n",
    "train.nunique()"
   ]
  },
  {
   "cell_type": "code",
   "execution_count": 163,
   "metadata": {},
   "outputs": [],
   "source": [
    "# Extract site_names for train data\n",
    "temp_list = list()\n",
    "for path in train['category']:\n",
    "    temp_list.append(path.split(':', 2)[2])\n",
    "train['name'] = temp_list"
   ]
  },
  {
   "cell_type": "code",
   "execution_count": 164,
   "metadata": {},
   "outputs": [
    {
     "data": {
      "text/html": [
       "<div>\n",
       "<style scoped>\n",
       "    .dataframe tbody tr th:only-of-type {\n",
       "        vertical-align: middle;\n",
       "    }\n",
       "\n",
       "    .dataframe tbody tr th {\n",
       "        vertical-align: top;\n",
       "    }\n",
       "\n",
       "    .dataframe thead th {\n",
       "        text-align: right;\n",
       "    }\n",
       "</style>\n",
       "<table border=\"1\" class=\"dataframe\">\n",
       "  <thead>\n",
       "    <tr style=\"text-align: right;\">\n",
       "      <th></th>\n",
       "      <th>id</th>\n",
       "      <th>url</th>\n",
       "      <th>landmark_id</th>\n",
       "      <th>category</th>\n",
       "      <th>name</th>\n",
       "    </tr>\n",
       "  </thead>\n",
       "  <tbody>\n",
       "    <tr>\n",
       "      <th>0</th>\n",
       "      <td>6e158a47eb2ca3f6</td>\n",
       "      <td>https://upload.wikimedia.org/wikipedia/commons...</td>\n",
       "      <td>142820</td>\n",
       "      <td>http://commons.wikimedia.org/wiki/Category:Sto...</td>\n",
       "      <td>Stockholms_gamla_observatorium</td>\n",
       "    </tr>\n",
       "    <tr>\n",
       "      <th>1</th>\n",
       "      <td>072bd23acd6e0daa</td>\n",
       "      <td>http://upload.wikimedia.org/wikipedia/commons/...</td>\n",
       "      <td>142820</td>\n",
       "      <td>http://commons.wikimedia.org/wiki/Category:Sto...</td>\n",
       "      <td>Stockholms_gamla_observatorium</td>\n",
       "    </tr>\n",
       "    <tr>\n",
       "      <th>2</th>\n",
       "      <td>57adb5d4273cb491</td>\n",
       "      <td>https://upload.wikimedia.org/wikipedia/commons...</td>\n",
       "      <td>142820</td>\n",
       "      <td>http://commons.wikimedia.org/wiki/Category:Sto...</td>\n",
       "      <td>Stockholms_gamla_observatorium</td>\n",
       "    </tr>\n",
       "    <tr>\n",
       "      <th>3</th>\n",
       "      <td>0dd2ff809608127f</td>\n",
       "      <td>https://upload.wikimedia.org/wikipedia/commons...</td>\n",
       "      <td>142820</td>\n",
       "      <td>http://commons.wikimedia.org/wiki/Category:Sto...</td>\n",
       "      <td>Stockholms_gamla_observatorium</td>\n",
       "    </tr>\n",
       "    <tr>\n",
       "      <th>4</th>\n",
       "      <td>1034d5cb0eec963f</td>\n",
       "      <td>https://upload.wikimedia.org/wikipedia/commons...</td>\n",
       "      <td>142820</td>\n",
       "      <td>http://commons.wikimedia.org/wiki/Category:Sto...</td>\n",
       "      <td>Stockholms_gamla_observatorium</td>\n",
       "    </tr>\n",
       "    <tr>\n",
       "      <th>5</th>\n",
       "      <td>5655310d1a036ee4</td>\n",
       "      <td>http://upload.wikimedia.org/wikipedia/commons/...</td>\n",
       "      <td>142820</td>\n",
       "      <td>http://commons.wikimedia.org/wiki/Category:Sto...</td>\n",
       "      <td>Stockholms_gamla_observatorium</td>\n",
       "    </tr>\n",
       "  </tbody>\n",
       "</table>\n",
       "</div>"
      ],
      "text/plain": [
       "                 id                                                url  \\\n",
       "0  6e158a47eb2ca3f6  https://upload.wikimedia.org/wikipedia/commons...   \n",
       "1  072bd23acd6e0daa  http://upload.wikimedia.org/wikipedia/commons/...   \n",
       "2  57adb5d4273cb491  https://upload.wikimedia.org/wikipedia/commons...   \n",
       "3  0dd2ff809608127f  https://upload.wikimedia.org/wikipedia/commons...   \n",
       "4  1034d5cb0eec963f  https://upload.wikimedia.org/wikipedia/commons...   \n",
       "5  5655310d1a036ee4  http://upload.wikimedia.org/wikipedia/commons/...   \n",
       "\n",
       "   landmark_id                                           category  \\\n",
       "0       142820  http://commons.wikimedia.org/wiki/Category:Sto...   \n",
       "1       142820  http://commons.wikimedia.org/wiki/Category:Sto...   \n",
       "2       142820  http://commons.wikimedia.org/wiki/Category:Sto...   \n",
       "3       142820  http://commons.wikimedia.org/wiki/Category:Sto...   \n",
       "4       142820  http://commons.wikimedia.org/wiki/Category:Sto...   \n",
       "5       142820  http://commons.wikimedia.org/wiki/Category:Sto...   \n",
       "\n",
       "                             name  \n",
       "0  Stockholms_gamla_observatorium  \n",
       "1  Stockholms_gamla_observatorium  \n",
       "2  Stockholms_gamla_observatorium  \n",
       "3  Stockholms_gamla_observatorium  \n",
       "4  Stockholms_gamla_observatorium  \n",
       "5  Stockholms_gamla_observatorium  "
      ]
     },
     "execution_count": 164,
     "metadata": {},
     "output_type": "execute_result"
    }
   ],
   "source": [
    "train.head(6)"
   ]
  },
  {
   "cell_type": "code",
   "execution_count": 165,
   "metadata": {},
   "outputs": [
    {
     "data": {
      "text/plain": [
       "id             4132914\n",
       "url            4132914\n",
       "landmark_id     203094\n",
       "category        203094\n",
       "name            203094\n",
       "dtype: int64"
      ]
     },
     "execution_count": 165,
     "metadata": {},
     "output_type": "execute_result"
    }
   ],
   "source": [
    "train.nunique()"
   ]
  },
  {
   "cell_type": "code",
   "execution_count": 166,
   "metadata": {},
   "outputs": [],
   "source": [
    "# Occurance of landmark_id in decreasing order(Top categories)\n",
    "temp = pd.DataFrame(train.landmark_id.value_counts().head(10))\n",
    "temp.reset_index(inplace=True)\n",
    "temp.columns = ['landmark_id','count']\n"
   ]
  },
  {
   "cell_type": "code",
   "execution_count": 167,
   "metadata": {},
   "outputs": [
    {
     "name": "stdout",
     "output_type": "stream",
     "text": [
      "Percentage of the 10 most frequent landmarks in : total 4132914 ids 17.213703999133408 %\n"
     ]
    },
    {
     "data": {
      "image/png": "[encoded data removed]",
      "text/plain": [
       "<Figure size 648x720 with 1 Axes>"
      ]
     },
     "metadata": {
      "needs_background": "light"
     },
     "output_type": "display_data"
    }
   ],
   "source": [
    "print(\"Percentage of the 10 most frequent landmarks in : total 4132914 ids\",sum(temp['count'])/203094*100,\"%\")\n",
    "# Plot the most frequent landmark_ids\n",
    "plt.figure(figsize = (9, 10))\n",
    "plt.title('Most frequent landmarks')\n",
    "sns.set_color_codes(\"pastel\")\n",
    "sns.barplot(x=\"landmark_id\", y=\"count\", data=temp,\n",
    "            label=\"Count\")\n",
    "plt.show()"
   ]
  },
  {
   "cell_type": "code",
   "execution_count": 168,
   "metadata": {
    "scrolled": true
   },
   "outputs": [
    {
     "data": {
      "text/plain": [
       "landmark_id    203094\n",
       "count             655\n",
       "dtype: int64"
      ]
     },
     "execution_count": 168,
     "metadata": {},
     "output_type": "execute_result"
    }
   ],
   "source": [
    "# Occurance of landmark_id in increasing order\n",
    "freq = pd.DataFrame(train.landmark_id.value_counts())\n",
    "freq.reset_index(inplace=True)\n",
    "freq.columns = ['landmark_id','count']\n",
    "freq.nunique()"
   ]
  },
  {
   "cell_type": "code",
   "execution_count": 169,
   "metadata": {},
   "outputs": [
    {
     "data": {
      "image/png": "[encoded data removed]",
      "text/plain": [
       "<Figure size 648x1440 with 1 Axes>"
      ]
     },
     "metadata": {
      "needs_background": "light"
     },
     "output_type": "display_data"
    },
    {
     "name": "stdout",
     "output_type": "stream",
     "text": [
      "Number of classes under 20 occurences 152925 out of total number of categories 203094\n"
     ]
    }
   ],
   "source": [
    "bottomlist=list()\n",
    "for n in range(20):    \n",
    "   bottomlist.append(len(freq.loc[freq['count'] ==n+1 ]))\n",
    "count=list(range(1,21))\n",
    "plt.figure(figsize = (9, 20))\n",
    "plt.title('Frequence of the least 20 frequent landmarks')\n",
    "sns.set_color_codes(\"pastel\")\n",
    "\n",
    "sns.barplot(x=count, y=bottomlist)\n",
    "plt.show()\n",
    "\n",
    "#Percentage of the least 20 frequent landmarks\n",
    "print(\"Number of classes under 20 occurences\",(train['landmark_id'].value_counts() <= 20).sum(),'out of total number of categories',len(train['landmark_id'].unique()))"
   ]
  },
  {
   "cell_type": "code",
   "execution_count": 170,
   "metadata": {},
   "outputs": [
    {
     "data": {
      "image/png": "[encoded data removed]",
      "text/plain": [
       "<Figure size 720x576 with 1 Axes>"
      ]
     },
     "metadata": {
      "needs_background": "light"
     },
     "output_type": "display_data"
    }
   ],
   "source": [
    "#Show the Distribution of Caregories\n",
    "plt.figure(figsize = (10, 8))\n",
    "plt.title('Category Distribuition')\n",
    "sns.distplot(train['landmark_id'])\n",
    "plt.show()"
   ]
  },
  {
   "cell_type": "code",
   "execution_count": null,
   "metadata": {},
   "outputs": [],
   "source": []
  }
 ],
 "metadata": {
  "kernelspec": {
   "display_name": "Python 3",
   "language": "python",
   "name": "python3"
  },
  "language_info": {
   "codemirror_mode": {
    "name": "ipython",
    "version": 3
   },
   "file_extension": ".py",
   "mimetype": "text/x-python",
   "name": "python",
   "nbconvert_exporter": "python",
   "pygments_lexer": "ipython3",
   "version": "3.7.1"
  }
 },
 "nbformat": 4,
 "nbformat_minor": 2
}
