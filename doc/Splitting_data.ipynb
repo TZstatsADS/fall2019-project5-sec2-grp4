{
 "cells": [
  {
   "cell_type": "code",
   "execution_count": 43,
   "metadata": {},
   "outputs": [],
   "source": [
    "import os\n",
    "import numpy as np\n",
    "import matplotlib.pyplot as plt\n",
    "import random\n",
    "import shutil"
   ]
  },
  {
   "cell_type": "code",
   "execution_count": 39,
   "metadata": {},
   "outputs": [],
   "source": [
    "initial_train_path = 'train'\n",
    "classes = os.listdir(initial_train_path)\n",
    "classes_count = []\n",
    "for c in classes:\n",
    "    if c == \".DS_Store\":\n",
    "        continue\n",
    "    images = os.listdir(os.path.join(initial_train_path, c))\n",
    "    classes_count.append((c, len(images)))"
   ]
  },
  {
   "cell_type": "code",
   "execution_count": 40,
   "metadata": {},
   "outputs": [],
   "source": [
    "classes_count = sorted(classes_count, key=lambda x: x[1], reverse=True)"
   ]
  },
  {
   "cell_type": "code",
   "execution_count": 51,
   "metadata": {},
   "outputs": [],
   "source": [
    "selected_classes = classes_count[:20]\n",
    "idx = 0\n",
    "path = 'data'\n",
    "for c, _ in selected_classes:\n",
    "    images = os.listdir(os.path.join(initial_train_path, c))\n",
    "    random.shuffle(images)\n",
    "    os.mkdir(os.path.join(path, 'train', str(idx)))\n",
    "    os.mkdir(os.path.join(path, 'test', str(idx)))\n",
    "    train_size = int(selected_classes[-1][1] * 0.8)\n",
    "    train_images = images[:selected_classes[-1][1]][:train_size]\n",
    "    test_images = images[:selected_classes[-1][1]][train_size:]\n",
    "    for img in train_images:\n",
    "        shutil.copy(os.path.join(initial_train_path, c, img), os.path.join(path, 'train', str(idx), img))\n",
    "    for img in test_images:\n",
    "        shutil.copy(os.path.join(initial_train_path, c, img), os.path.join(path, 'test', str(idx), img))\n",
    "    idx += 1"
   ]
  },
  {
   "cell_type": "code",
   "execution_count": null,
   "metadata": {},
   "outputs": [],
   "source": []
  }
 ],
 "metadata": {
  "kernelspec": {
   "display_name": "Python 3",
   "language": "python",
   "name": "python3"
  },
  "language_info": {
   "codemirror_mode": {
    "name": "ipython",
    "version": 3
   },
   "file_extension": ".py",
   "mimetype": "text/x-python",
   "name": "python",
   "nbconvert_exporter": "python",
   "pygments_lexer": "ipython3",
   "version": "3.6.5"
  }
 },
 "nbformat": 4,
 "nbformat_minor": 2
}
